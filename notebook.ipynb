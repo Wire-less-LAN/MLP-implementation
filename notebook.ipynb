{
  "nbformat": 4,
  "nbformat_minor": 0,
  "metadata": {
    "colab": {
      "provenance": []
    },
    "kernelspec": {
      "name": "python3",
      "display_name": "Python 3"
    },
    "language_info": {
      "name": "python"
    }
  },
  "cells": [
    {
      "cell_type": "code",
      "execution_count": 849,
      "metadata": {
        "id": "gRyqr3jPcf3c",
        "cellView": "form"
      },
      "outputs": [],
      "source": [
        "#@title\n",
        "import numpy as np\n",
        "import torch"
      ]
    },
    {
      "cell_type": "code",
      "source": [
        "#@title\n",
        "from google.colab import drive\n",
        "drive.mount('/content/drive')"
      ],
      "metadata": {
        "id": "CDfLn7yjckbv",
        "cellView": "form"
      },
      "execution_count": null,
      "outputs": []
    },
    {
      "cell_type": "code",
      "source": [
        "#@title\n",
        "!pip3 install torch torchvision"
      ],
      "metadata": {
        "cellView": "form",
        "id": "YQ8PZ4Fsc0WO"
      },
      "execution_count": null,
      "outputs": []
    },
    {
      "cell_type": "code",
      "source": [
        "#@title\n",
        "file = open(\"/content/drive/MyDrive/AI/spiral/two_spiral_train_data.txt\")\n",
        "lines = file.readlines()\n",
        "train_set = []\n",
        "target_set = []\n",
        "for item in lines:\n",
        "  nums = item.split()\n",
        "  train_set.append([float(nums[0]), float(nums[1])])\n",
        "  target_set.append([float(nums[2])])\n",
        "\n",
        "file = open(\"/content/drive/MyDrive/AI/spiral/two_spiral_test_data.txt\")\n",
        "lines = file.readlines()\n",
        "test_input_set = []\n",
        "test_target_set = []\n",
        "for item in lines:\n",
        "  nums = item.split()\n",
        "  test_input_set.append([float(nums[0]), float(nums[1])])\n",
        "  test_target_set.append([float(nums[2])])\n",
        "  \n",
        "train_set = np.array(train_set)\n",
        "target_set = np.array(target_set)\n",
        "train_set = torch.from_numpy(train_set)\n",
        "target_set = torch.from_numpy(target_set)\n",
        "test_input_set = np.array(test_input_set)\n",
        "test_target_set = np.array(test_target_set)\n",
        "test_input_set = torch.from_numpy(test_input_set)\n",
        "test_target_set = torch.from_numpy(test_target_set)"
      ],
      "metadata": {
        "cellView": "form",
        "id": "Ofl1kckUc5Ym"
      },
      "execution_count": 235,
      "outputs": []
    },
    {
      "cell_type": "code",
      "source": [
        "#@title\n",
        "from torch.utils.data import Dataset, DataLoader\n",
        "from torchvision import transforms, utils\n",
        "\n",
        "class train_dataset(Dataset):\n",
        "  def __init__(self):\n",
        "    self.input = train_set\n",
        "    self.target = target_set\n",
        "\n",
        "  def __getitem__(self, index):\n",
        "    return self.input[index], self.target[index]\n",
        "\n",
        "  def __len__(self):\n",
        "    return len(self.input)\n",
        "\n",
        "class test_dataset(Dataset):\n",
        "  def __getitem__(self, index):\n",
        "    return test_input_set[index], test_target_set[index]\n",
        "  def __len__(self):\n",
        "    return len(test_input_set)"
      ],
      "metadata": {
        "cellView": "form",
        "id": "551JLbbykdwy"
      },
      "execution_count": 850,
      "outputs": []
    },
    {
      "cell_type": "code",
      "source": [
        "#@title\n",
        "import pickle\n",
        "\n",
        "def save_model(fn, Ws, bs):\n",
        "  with open(fn, 'wb') as f:\n",
        "    pickle.dump(Ws, f)\n",
        "    pickle.dump(bs, f)\n",
        "\n",
        "def read_model(fn, Ws, bs):\n",
        "  with open(fn, 'rb') as f:\n",
        "    Ws = pickle.load(f)\n",
        "    bs = pickle.load(f)"
      ],
      "metadata": {
        "cellView": "form",
        "id": "HW4C-E7kumo-"
      },
      "execution_count": 859,
      "outputs": []
    },
    {
      "cell_type": "markdown",
      "source": [
        "![image.png](data:image/png;base64,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)"
      ],
      "metadata": {
        "id": "uKzOSJSG07km"
      }
    },
    {
      "cell_type": "code",
      "source": [
        "#@title\n",
        "cur_mean_loss = -1\n",
        "\n",
        "def hardlim(n):\n",
        "  if n[0] > 0:\n",
        "    n[0] = 1\n",
        "  else:\n",
        "    n[0] = 0\n",
        "  return n\n",
        "\n",
        "def cross_entropy(a_hat, t):\n",
        "  return -torch.log(a_hat[range(len(a_hat)), t.long()])\n",
        "\n",
        "def forward(X, Ws, bs):\n",
        "  n = torch.zeros(1)\n",
        "  a = X.unsqueeze(-1)\n",
        "  for W, b in zip(Ws, bs):\n",
        "    n = torch.matmul(W, a) + b.unsqueeze(-1)\n",
        "    a = torch.relu(n)\n",
        "\n",
        "  a = torch.sigmoid(n)\n",
        "  return a.squeeze(-1)\n",
        "\n",
        "def backward(F, alpha, Ws, bs):\n",
        "  global W1, b1, W2, b2\n",
        "  g = torch.autograd.grad(outputs=F, inputs=Ws+bs)\n",
        "\n",
        "  for i in range(len(Ws)):\n",
        "    Ws[i] = Ws[i] - g[i].mul(alpha)\n",
        "\n",
        "  for i in range(len(bs)):\n",
        "    bs[i] = bs[i] - g[i+len(Ws)].mul(alpha)\n",
        "\n",
        "def train_epoch(alpha, iter, Ws, bs):\n",
        "  global cur_mean_loss\n",
        "  global runs\n",
        "  a_ret = torch.tensor(1)\n",
        "  for bid, (X, T) in enumerate(iter):\n",
        "    runs+=1\n",
        "\n",
        "    A = forward(X, Ws, bs)\n",
        "    A_hat = torch.cat((A, torch.ones_like(A) - A), dim=1)[:, [1, 0]]\n",
        "\n",
        "    a = A_hat\n",
        "\n",
        "    E = cross_entropy(A_hat, T.squeeze(-1)).mean()\n",
        "    cur_mean_loss = E.item()\n",
        "    backward(E, alpha, Ws, bs)\n",
        "  return a_ret\n",
        "\n",
        "def train_till_loss(max_epoch, alpha, dataloader, target, Ws, bs):\n",
        "  #train\n",
        "  x_epoch = []\n",
        "  y_loss = []\n",
        "  i = 0\n",
        "  while((cur_mean_loss == -1 or cur_mean_loss > target) and i < max_epoch):\n",
        "    i+=1\n",
        "    data_iter = iter(dataloader)\n",
        "    a = train_epoch(alpha, data_iter, Ws, bs)\n",
        "    if(i%100 == 0):\n",
        "      print(\"finished epoch \"+ str(i))\n",
        "      print(\"current loss: \"+ str(cur_mean_loss))\n",
        "      x_epoch.append(i)\n",
        "      y_loss.append(cur_mean_loss)\n",
        "  \n",
        "  return x_epoch, y_loss\n",
        "\n",
        "def train(epoch, alpha, dataloader, Ws, bs):\n",
        "  #train\n",
        "  x_epoch = []\n",
        "  y_loss = []\n",
        "\n",
        "  for i in range(epoch):\n",
        "    data_iter = iter(dataloader)\n",
        "    a = train_epoch(alpha, data_iter, Ws, bs)\n",
        "    if(i%100 == 0):\n",
        "      print(\"finished epoch \"+ str(i))\n",
        "      print(\"current loss: \"+ str(cur_mean_loss))\n",
        "      x_epoch.append(i)\n",
        "      y_loss.append(cur_mean_loss)\n",
        "  \n",
        "  return x_epoch, y_loss\n",
        "\n",
        "def test(dataloader, Ws, bs):\n",
        "  #test\n",
        "  hit = 0.0\n",
        "  sum = 0.0\n",
        "  data_iter = iter(dataloader)\n",
        "  index = []\n",
        "  for X, T in data_iter:\n",
        "    A = forward(X, Ws, bs)\n",
        "    A = A-torch.ones_like(A)*0.5\n",
        "    \n",
        "    equals = torch.eq(torch.clamp(torch.sign(A),min=0), T)\n",
        "    # print(equals)\n",
        "    # for i, e in enumerate(T):\n",
        "    #   if T[i].item()==0:\n",
        "    #     index.append(i)\n",
        "    #   else:\n",
        "    #     print(torch.sign(A)[i].item(), T[i].item())\n",
        "      \n",
        "    hit += equals.sum().item()\n",
        "    sum += T.numel()\n",
        "  \n",
        "  return hit, sum"
      ],
      "metadata": {
        "cellView": "form",
        "id": "WfXjXj01yIJL"
      },
      "execution_count": 860,
      "outputs": []
    },
    {
      "cell_type": "code",
      "source": [
        "#@title\n",
        "from torch import nn\n",
        "\n",
        "def init_train(num_hiddens):\n",
        "  global cur_mean_loss\n",
        "  cur_mean_loss = -1\n",
        "  train_data = train_dataset()\n",
        "  test_data = test_dataset()\n",
        "  train_loader = DataLoader(train_data, batch_size=300, shuffle=True)\n",
        "  test_loader = DataLoader(test_data, batch_size=300, shuffle=True)\n",
        "  Ws, bs = init_model(num_hiddens)\n",
        "  return train_loader, test_loader, Ws, bs"
      ],
      "metadata": {
        "cellView": "form",
        "id": "Hr5sLZ04ltmv"
      },
      "execution_count": 870,
      "outputs": []
    },
    {
      "cell_type": "code",
      "source": [
        "#@title\n",
        "import torch\n",
        "import math\n",
        "def init_model(num_hiddens):\n",
        "  num_inputs, num_outputs = 2, 1\n",
        "\n",
        "  torch.manual_seed(torch.seed())\n",
        "  W0 = torch.randn(num_hiddens[0], num_inputs, requires_grad=True).double() * np.sqrt(2.0/(num_inputs))\n",
        "  b0 = torch.zeros(num_hiddens[0], requires_grad=True).double()\n",
        "\n",
        "  Wh = []\n",
        "  bh = []\n",
        "\n",
        "  for i in range(len(num_hiddens)-1):\n",
        "    Wh.append(torch.randn(num_hiddens[i+1], num_hiddens[i], requires_grad=True).double() * np.sqrt(2.0 / (num_hiddens[i])))\n",
        "    bh.append(torch.zeros(num_hiddens[i+1], requires_grad=True).double())\n",
        "\n",
        "  W1 = torch.randn(num_outputs, num_hiddens[len(num_hiddens)-1], requires_grad=True).double() * np.sqrt(2.0/(num_hiddens[-1]))\n",
        "  b1 = torch.zeros(num_outputs, requires_grad=True).double()\n",
        "\n",
        "  Ws = [W0] + Wh + [W1]\n",
        "  bs = [b0] + bh + [b1]\n",
        "\n",
        "  return Ws, bs"
      ],
      "metadata": {
        "cellView": "form",
        "id": "rZ0ieJ8Dmr_K"
      },
      "execution_count": 862,
      "outputs": []
    },
    {
      "cell_type": "code",
      "source": [
        "#@title\n",
        "import numpy as np\n",
        "import sklearn\n",
        "import matplotlib.pyplot as plt\n",
        "def draw_border(Ws, bs):\n",
        "  plt.figure(figsize=(8,8))\n",
        "  fig, (ax1) = plt.subplots(1, figsize=(8,8))\n",
        "\n",
        "  x = np.arange(-7, 7, 0.1)\n",
        "  y = np.arange(-7, 7, 0.1)\n",
        "  xx, yy = np.meshgrid(x, y)  # 生成网格点的横坐标xx与纵坐标yy\n",
        "\n",
        "  pts = torch.stack((torch.from_numpy(xx).flatten(),\n",
        "                  torch.from_numpy(yy).flatten()), dim=1)\n",
        "\n",
        "  z = forward(pts, Ws, bs).reshape(len(x), len(y)).detach().numpy()  # 三维中的高度值\n",
        "  ax1.contourf(xx, yy, z) #不同高度面填充颜色\n",
        "\n",
        "  tx = test_input_set.numpy()[:, 0]\n",
        "  ty = test_input_set.numpy()[:, 1]\n",
        "\n",
        "  index = []\n",
        "  for i in range(len(tx)):\n",
        "    if(test_target_set.numpy()[i] == 1):\n",
        "      index.append(i)\n",
        "\n",
        "  tx_pass = tx[[index]]\n",
        "  ty_pass = ty[[index]]\n",
        "  fail_index = [item for item in range(len(tx)) if item not in index]\n",
        "  tx_fail = tx[[fail_index]]\n",
        "  ty_fail = ty[[fail_index]]\n",
        "  ax1.scatter(tx_pass, ty_pass, c='skyblue')\n",
        "  ax1.scatter(tx_fail, ty_fail, c='red')\n",
        "  plt.show()\n",
        "\n",
        "def draw_loss(x_epoch, y_loss):\n",
        "  l1=plt.plot(x_epoch,y_loss,'r--',label='loss')\n",
        "  plt.xlabel('epochs')\n",
        "  plt.ylabel('loss')\n",
        "  plt.legend()\n",
        "  plt.show()"
      ],
      "metadata": {
        "cellView": "form",
        "id": "uTDBsfuZcOKN"
      },
      "execution_count": 863,
      "outputs": []
    },
    {
      "cell_type": "markdown",
      "source": [
        "训练："
      ],
      "metadata": {
        "id": "uHsGWFaGNS1h"
      }
    },
    {
      "cell_type": "code",
      "source": [
        "train_loader, test_loader, Ws, bs = init_train([16, 32, 16])\n",
        "x_epoch, y_loss = train_till_loss(10000, 0.001, train_loader, 0.1, Ws, bs)\n",
        "draw_border(Ws, bs)\n",
        "draw_loss(x_epoch, y_loss)"
      ],
      "metadata": {
        "id": "NQLgYGfeGzYa"
      },
      "execution_count": null,
      "outputs": []
    },
    {
      "cell_type": "markdown",
      "source": [
        "绘制边界与损失曲线："
      ],
      "metadata": {
        "id": "PKsTYlDGNW5s"
      }
    },
    {
      "cell_type": "code",
      "source": [
        "draw_border(Ws, bs)\n",
        "draw_loss(x_epoch, y_loss)"
      ],
      "metadata": {
        "id": "8mUrtksLK5Nm"
      },
      "execution_count": null,
      "outputs": []
    },
    {
      "cell_type": "markdown",
      "source": [
        "测试："
      ],
      "metadata": {
        "id": "P4oxZcnjNfqP"
      }
    },
    {
      "cell_type": "code",
      "source": [
        "hit, sum = test(test_loader, Ws, bs)\n",
        "print(\"accuracy: \"+str(hit/sum))"
      ],
      "metadata": {
        "colab": {
          "base_uri": "https://localhost:8080/"
        },
        "id": "13trKinTQqfy",
        "outputId": "10d7ca81-89a8-42af-c781-14ebaeefae59"
      },
      "execution_count": 879,
      "outputs": [
        {
          "output_type": "stream",
          "name": "stdout",
          "text": [
            "accuracy: 0.48333333333333334\n"
          ]
        }
      ]
    },
    {
      "cell_type": "markdown",
      "source": [
        "保存模型"
      ],
      "metadata": {
        "id": "yfeYmf2oNij5"
      }
    },
    {
      "cell_type": "code",
      "source": [
        "save_model(\"/content/drive/MyDrive/AI/spiral/model_[16,32,16]a=0.01.pkl\", Ws, bs)"
      ],
      "metadata": {
        "id": "ubqY9sI_vwCN"
      },
      "execution_count": 873,
      "outputs": []
    },
    {
      "cell_type": "code",
      "source": [
        "#@title\n",
        "#test\n",
        "\n",
        "torch.manual_seed(torch.seed())\n",
        "print(torch.randn(num_inputs))\n",
        "forward(torch.randn(num_inputs).double())"
      ],
      "metadata": {
        "cellView": "form",
        "id": "Um04_0VyU85Y"
      },
      "execution_count": null,
      "outputs": []
    },
    {
      "cell_type": "code",
      "source": [
        "#@title\n",
        "#test\n",
        "W = torch.tensor([[1, 1], [1, 1], [1, 1]])\n",
        "M = torch.tensor([[1., 1.], [2., 2.], [3., 3.]]).double()\n",
        "b = torch.tensor([1, 1, 1])\n",
        "A = forward(M)\n",
        "\n",
        "T = torch.tensor([[1], [0], [1]])\n",
        "\n",
        "A_hat = torch.cat((A, torch.ones_like(A) - A), dim=1)[:, [1, 0]]\n",
        "print(A_hat)\n",
        "print(T.squeeze(-1))\n",
        "cross_entropy(A_hat, T.squeeze(-1)).mean()"
      ],
      "metadata": {
        "cellView": "form",
        "id": "jlnBceiJp4Hx"
      },
      "execution_count": null,
      "outputs": []
    }
  ]
}